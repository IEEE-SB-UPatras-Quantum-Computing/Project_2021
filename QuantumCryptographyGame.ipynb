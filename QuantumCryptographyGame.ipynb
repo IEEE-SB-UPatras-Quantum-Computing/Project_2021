{
 "cells": [
  {
   "cell_type": "code",
   "execution_count": 12,
   "metadata": {},
   "outputs": [],
   "source": [
    "from qiskit import QuantumCircuit, execute, assemble, transpile, Aer\n",
    "from qiskit.visualization import plot_bloch_multivector, plot_histogram, plot_state_qsphere\n",
    "from random import randint\n",
    "import pickle\n",
    "\n",
    "from warnings import filterwarnings\n",
    "filterwarnings('ignore')"
   ]
  },
  {
   "cell_type": "code",
   "execution_count": 13,
   "metadata": {},
   "outputs": [],
   "source": [
    "\n",
    "class CryptoCircuit():\n",
    "    def __init__(self):\n",
    "        # super().__init__(7) # QuantumCircuit\n",
    "        self.qc = QuantumCircuit(7)\n",
    "\n",
    "    def initialize(self, code):\n",
    "        #self.qc.initialize(code,qc.qubits)\n",
    "        for i in range(len(code)):\n",
    "            if code[i]!='0': self.qc.x(i)\n",
    "            else: self.qc.i(i)\n",
    "        self.qc = self.qc.reverse_bits()\n",
    "\n",
    "    def add_gate(self, gate):\n",
    "        self.qc.h(self.qc.qubits) if gate else self.qc.i(self.qc.qubits)\n",
    "\n",
    "    def get_measurements(self):\n",
    "        self.qc.measure_all()\n",
    "        sim = Aer.get_backend(\"qasm_simulator\")\n",
    "        counts = execute(self.qc, sim, shots=1).result().get_counts()\n",
    "        return list(counts)[0]\n",
    "\n",
    "    def q_crypto(self):\n",
    "        sim = Aer.get_backend(\"statevector_simulator\")\n",
    "        statevector = execute(self.qc, sim, shots=1).result().get_statevector()\n",
    "        #display(plot_bloch_multivector(statevector))\n",
    "        display(plot_state_qsphere(statevector))\n",
    "\n"
   ]
  },
  {
   "cell_type": "code",
   "execution_count": 14,
   "metadata": {},
   "outputs": [],
   "source": [
    "def receiver():\n",
    "    pass\n"
   ]
  },
  {
   "cell_type": "code",
   "execution_count": 15,
   "metadata": {},
   "outputs": [
    {
     "data": {
      "text/plain": [
       "'Hello World'"
      ]
     },
     "execution_count": 15,
     "metadata": {},
     "output_type": "execute_result"
    }
   ],
   "source": [
    "msg = b'\\x80\\x04\\x95\\x0f\\x00\\x00\\x00\\x00\\x00\\x00\\x00\\x8c\\x0bHello World\\x94.' # I send it\n",
    "pickle.loads(msg) # unpickle to recieve\n"
   ]
  },
  {
   "cell_type": "code",
   "execution_count": null,
   "metadata": {},
   "outputs": [],
   "source": []
  }
 ],
 "metadata": {
  "interpreter": {
   "hash": "ac59ebe37160ed0dfa835113d9b8498d9f09ceb179beaac4002f036b9467c963"
  },
  "kernelspec": {
   "display_name": "Python 3.9.2 64-bit",
   "language": "python",
   "name": "python3"
  },
  "language_info": {
   "codemirror_mode": {
    "name": "ipython",
    "version": 3
   },
   "file_extension": ".py",
   "mimetype": "text/x-python",
   "name": "python",
   "nbconvert_exporter": "python",
   "pygments_lexer": "ipython3",
   "version": "3.9.2"
  },
  "orig_nbformat": 4
 },
 "nbformat": 4,
 "nbformat_minor": 2
}
